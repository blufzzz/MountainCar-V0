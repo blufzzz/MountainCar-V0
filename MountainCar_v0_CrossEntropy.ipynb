{
  "nbformat": 4,
  "nbformat_minor": 0,
  "metadata": {
    "colab": {
      "name": "MountainCar-v0-CrossEntropy.ipynb",
      "provenance": [],
      "collapsed_sections": []
    },
    "kernelspec": {
      "name": "python3",
      "display_name": "Python 3"
    },
    "accelerator": "GPU",
    "widgets": {
      "application/vnd.jupyter.widget-state+json": {
        "a88faa6c54f0476aab2c6cdb197a5244": {
          "model_module": "@jupyter-widgets/controls",
          "model_name": "HBoxModel",
          "state": {
            "_view_name": "HBoxView",
            "_dom_classes": [],
            "_model_name": "HBoxModel",
            "_view_module": "@jupyter-widgets/controls",
            "_model_module_version": "1.5.0",
            "_view_count": null,
            "_view_module_version": "1.5.0",
            "box_style": "",
            "layout": "IPY_MODEL_63fc8448b7fb4065bc858c963b0e75ae",
            "_model_module": "@jupyter-widgets/controls",
            "children": [
              "IPY_MODEL_944611cc654e42a591655f893d1b5dc8",
              "IPY_MODEL_c6c80d2a8b924bd3a0706715b30fa190"
            ]
          }
        },
        "63fc8448b7fb4065bc858c963b0e75ae": {
          "model_module": "@jupyter-widgets/base",
          "model_name": "LayoutModel",
          "state": {
            "_view_name": "LayoutView",
            "grid_template_rows": null,
            "right": null,
            "justify_content": null,
            "_view_module": "@jupyter-widgets/base",
            "overflow": null,
            "_model_module_version": "1.2.0",
            "_view_count": null,
            "flex_flow": null,
            "width": null,
            "min_width": null,
            "border": null,
            "align_items": null,
            "bottom": null,
            "_model_module": "@jupyter-widgets/base",
            "top": null,
            "grid_column": null,
            "overflow_y": null,
            "overflow_x": null,
            "grid_auto_flow": null,
            "grid_area": null,
            "grid_template_columns": null,
            "flex": null,
            "_model_name": "LayoutModel",
            "justify_items": null,
            "grid_row": null,
            "max_height": null,
            "align_content": null,
            "visibility": null,
            "align_self": null,
            "height": null,
            "min_height": null,
            "padding": null,
            "grid_auto_rows": null,
            "grid_gap": null,
            "max_width": null,
            "order": null,
            "_view_module_version": "1.2.0",
            "grid_template_areas": null,
            "object_position": null,
            "object_fit": null,
            "grid_auto_columns": null,
            "margin": null,
            "display": null,
            "left": null
          }
        },
        "944611cc654e42a591655f893d1b5dc8": {
          "model_module": "@jupyter-widgets/controls",
          "model_name": "IntProgressModel",
          "state": {
            "_view_name": "ProgressView",
            "style": "IPY_MODEL_9151c44b935642ee881e75f1003d8c7b",
            "_dom_classes": [],
            "description": " 57%",
            "_model_name": "IntProgressModel",
            "bar_style": "",
            "max": 100,
            "_view_module": "@jupyter-widgets/controls",
            "_model_module_version": "1.5.0",
            "value": 57,
            "_view_count": null,
            "_view_module_version": "1.5.0",
            "orientation": "horizontal",
            "min": 0,
            "description_tooltip": null,
            "_model_module": "@jupyter-widgets/controls",
            "layout": "IPY_MODEL_b76f40eb77104d7996d321eb9405d493"
          }
        },
        "c6c80d2a8b924bd3a0706715b30fa190": {
          "model_module": "@jupyter-widgets/controls",
          "model_name": "HTMLModel",
          "state": {
            "_view_name": "HTMLView",
            "style": "IPY_MODEL_a33ead7410e04d39b13a1bc69621d77c",
            "_dom_classes": [],
            "description": "",
            "_model_name": "HTMLModel",
            "placeholder": "​",
            "_view_module": "@jupyter-widgets/controls",
            "_model_module_version": "1.5.0",
            "value": " 57/100 [03:03&lt;02:30,  3.49s/it]",
            "_view_count": null,
            "_view_module_version": "1.5.0",
            "description_tooltip": null,
            "_model_module": "@jupyter-widgets/controls",
            "layout": "IPY_MODEL_cbd752cef05e4d90b72015953381ea04"
          }
        },
        "9151c44b935642ee881e75f1003d8c7b": {
          "model_module": "@jupyter-widgets/controls",
          "model_name": "ProgressStyleModel",
          "state": {
            "_view_name": "StyleView",
            "_model_name": "ProgressStyleModel",
            "description_width": "initial",
            "_view_module": "@jupyter-widgets/base",
            "_model_module_version": "1.5.0",
            "_view_count": null,
            "_view_module_version": "1.2.0",
            "bar_color": null,
            "_model_module": "@jupyter-widgets/controls"
          }
        },
        "b76f40eb77104d7996d321eb9405d493": {
          "model_module": "@jupyter-widgets/base",
          "model_name": "LayoutModel",
          "state": {
            "_view_name": "LayoutView",
            "grid_template_rows": null,
            "right": null,
            "justify_content": null,
            "_view_module": "@jupyter-widgets/base",
            "overflow": null,
            "_model_module_version": "1.2.0",
            "_view_count": null,
            "flex_flow": null,
            "width": null,
            "min_width": null,
            "border": null,
            "align_items": null,
            "bottom": null,
            "_model_module": "@jupyter-widgets/base",
            "top": null,
            "grid_column": null,
            "overflow_y": null,
            "overflow_x": null,
            "grid_auto_flow": null,
            "grid_area": null,
            "grid_template_columns": null,
            "flex": null,
            "_model_name": "LayoutModel",
            "justify_items": null,
            "grid_row": null,
            "max_height": null,
            "align_content": null,
            "visibility": null,
            "align_self": null,
            "height": null,
            "min_height": null,
            "padding": null,
            "grid_auto_rows": null,
            "grid_gap": null,
            "max_width": null,
            "order": null,
            "_view_module_version": "1.2.0",
            "grid_template_areas": null,
            "object_position": null,
            "object_fit": null,
            "grid_auto_columns": null,
            "margin": null,
            "display": null,
            "left": null
          }
        },
        "a33ead7410e04d39b13a1bc69621d77c": {
          "model_module": "@jupyter-widgets/controls",
          "model_name": "DescriptionStyleModel",
          "state": {
            "_view_name": "StyleView",
            "_model_name": "DescriptionStyleModel",
            "description_width": "",
            "_view_module": "@jupyter-widgets/base",
            "_model_module_version": "1.5.0",
            "_view_count": null,
            "_view_module_version": "1.2.0",
            "_model_module": "@jupyter-widgets/controls"
          }
        },
        "cbd752cef05e4d90b72015953381ea04": {
          "model_module": "@jupyter-widgets/base",
          "model_name": "LayoutModel",
          "state": {
            "_view_name": "LayoutView",
            "grid_template_rows": null,
            "right": null,
            "justify_content": null,
            "_view_module": "@jupyter-widgets/base",
            "overflow": null,
            "_model_module_version": "1.2.0",
            "_view_count": null,
            "flex_flow": null,
            "width": null,
            "min_width": null,
            "border": null,
            "align_items": null,
            "bottom": null,
            "_model_module": "@jupyter-widgets/base",
            "top": null,
            "grid_column": null,
            "overflow_y": null,
            "overflow_x": null,
            "grid_auto_flow": null,
            "grid_area": null,
            "grid_template_columns": null,
            "flex": null,
            "_model_name": "LayoutModel",
            "justify_items": null,
            "grid_row": null,
            "max_height": null,
            "align_content": null,
            "visibility": null,
            "align_self": null,
            "height": null,
            "min_height": null,
            "padding": null,
            "grid_auto_rows": null,
            "grid_gap": null,
            "max_width": null,
            "order": null,
            "_view_module_version": "1.2.0",
            "grid_template_areas": null,
            "object_position": null,
            "object_fit": null,
            "grid_auto_columns": null,
            "margin": null,
            "display": null,
            "left": null
          }
        }
      }
    }
  },
  "cells": [
    {
      "cell_type": "code",
      "metadata": {
        "id": "ynER-jAVKydK",
        "colab_type": "code",
        "colab": {}
      },
      "source": [
        "from IPython.display import  clear_output\n",
        "# solution for Google Colab rendering from here: https://star-ai.github.io/Rendering-OpenAi-Gym-in-Colaboratory/\n",
        "!pip install gym pyvirtualdisplay > /dev/null 2>&1\n",
        "!apt-get install -y xvfb python-opengl ffmpeg > /dev/null 2>&1\n",
        "!apt-get install x11-utils\n",
        "clear_output()"
      ],
      "execution_count": 0,
      "outputs": []
    },
    {
      "cell_type": "code",
      "metadata": {
        "id": "9IG9Ng6VND9k",
        "colab_type": "code",
        "colab": {}
      },
      "source": [
        "\n",
        "def show_video():\n",
        "  mp4list = glob.glob('video/*.mp4')\n",
        "  if len(mp4list) > 0:\n",
        "    mp4 = mp4list[0]\n",
        "    video = io.open(mp4, 'r+b').read()\n",
        "    encoded = base64.b64encode(video)\n",
        "    ipythondisplay.display(HTML(data='''<video alt=\"test\" autoplay \n",
        "                loop controls style=\"height: 400px;\">\n",
        "                <source src=\"data:video/mp4;base64,{0}\" type=\"video/mp4\" />\n",
        "             </video>'''.format(encoded.decode('ascii'))))\n",
        "  else: \n",
        "    print(\"Could not find video\")\n",
        "\n",
        "def wrap_env(env):\n",
        "  env = Monitor(env, './video', force=True)\n",
        "  return env    "
      ],
      "execution_count": 0,
      "outputs": []
    },
    {
      "cell_type": "code",
      "metadata": {
        "id": "Q_ZG-crXact-",
        "colab_type": "code",
        "colab": {
          "base_uri": "https://localhost:8080/",
          "height": 52
        },
        "outputId": "254afa4d-63c6-4e24-a6e9-84e6bd8293b4"
      },
      "source": [
        "import gym\n",
        "from gym import logger as gymlogger\n",
        "from gym.wrappers import Monitor\n",
        "gymlogger.set_level(40) #error only\n",
        "import math\n",
        "import glob\n",
        "import io\n",
        "import base64\n",
        "from IPython.display import HTML\n",
        "from IPython import display as ipythondisplay\n",
        "import torch\n",
        "import torch.nn as nn\n",
        "from torch.optim import Adam\n",
        "import time\n",
        "from collections import defaultdict\n",
        "from tqdm import tqdm_notebook\n",
        "from sklearn.neural_network import MLPClassifier\n",
        "import numpy as np\n",
        "import matplotlib.pyplot as plt\n",
        "from IPython.display import  clear_output\n",
        "from pyvirtualdisplay import Display\n",
        "%matplotlib inline\n",
        "\n",
        "display = Display(visible=0, size=(1400, 900))\n",
        "display.start()\n",
        "\n",
        "env = gym.make(\"MountainCar-v0\")\n",
        "env = wrap_env(env)\n",
        "\n",
        "print(\"Observation space:\", env.observation_space)\n",
        "print(\"Action space:\", env.action_space)"
      ],
      "execution_count": 3,
      "outputs": [
        {
          "output_type": "stream",
          "text": [
            "Observation space: Box(2,)\n",
            "Action space: Discrete(3)\n"
          ],
          "name": "stdout"
        }
      ]
    },
    {
      "cell_type": "code",
      "metadata": {
        "scrolled": true,
        "id": "QCi1uhQracuH",
        "colab_type": "code",
        "outputId": "90ed770b-1e77-4617-c123-91f6171bba58",
        "colab": {
          "base_uri": "https://localhost:8080/",
          "height": 286
        }
      },
      "source": [
        "obs0 = env.reset()\n",
        "print(\"initial observation code:\", obs0)\n",
        "plt.figure()\n",
        "plt.imshow(env.render('rgb_array'))\n",
        "plt.show()\n",
        "# Note: in MountainCar, observation is just two numbers: car position and velocity"
      ],
      "execution_count": 4,
      "outputs": [
        {
          "output_type": "stream",
          "text": [
            "initial observation code: [-0.40210651  0.        ]\n"
          ],
          "name": "stdout"
        },
        {
          "output_type": "display_data",
          "data": {
            "image/png": "[encoded data removed]",
            "text/plain": [
              "<Figure size 432x288 with 1 Axes>"
            ]
          },
          "metadata": {
            "tags": []
          }
        }
      ]
    },
    {
      "cell_type": "markdown",
      "metadata": {
        "id": "CPnk-nfGLFol",
        "colab_type": "text"
      },
      "source": [
        "# Intro\n",
        "In this environment, you get a reward of +100 when the car reaches the goal position at the top. But reward function is sparse since until the car reach the goal it won't get anything. It's unlikely that with randomly initialized policy agent will reach the goal, get reward's feedback and update the policy. So to tackle this problem let's introduce new reward function `custom_reward`.\n",
        "\n",
        "Some function templates were taken from https://github.com/yandexdataschool/Practical_RL/tree/coursera\n"
      ]
    },
    {
      "cell_type": "markdown",
      "metadata": {
        "id": "Q_8OsAmpLOJ6",
        "colab_type": "text"
      },
      "source": [
        "# Cross Entropy Method"
      ]
    },
    {
      "cell_type": "code",
      "metadata": {
        "id": "mvXZWz5dZDyV",
        "colab_type": "code",
        "colab": {}
      },
      "source": [
        "def custom_reward(state):\n",
        "    if state[0] >= 0.5:\n",
        "        return 10\n",
        "    if state[0] > -0.4:\n",
        "        return (1+state[0])**2\n",
        "    return 0"
      ],
      "execution_count": 0,
      "outputs": []
    },
    {
      "cell_type": "code",
      "metadata": {
        "id": "FvtdilX9RbOI",
        "colab_type": "code",
        "colab": {}
      },
      "source": [
        "def generate_session(agent, env, t_max=10**4):\n",
        "    \"\"\"\n",
        "    Play game until end or for t_max ticks.\n",
        "    :param policy: an array of shape [n_states,n_actions] with action probabilities\n",
        "    :returns: list of states, list of actions and sum of rewards\n",
        "    \"\"\"\n",
        "    states, actions = [], []\n",
        "    total_reward = 0.\n",
        "    total_real_reward = 0.\n",
        "\n",
        "    n_actions = env.action_space.n\n",
        "    s = env.reset()\n",
        "\n",
        "    for t in range(t_max):\n",
        "\n",
        "        # unsqueeze batch dimesion\n",
        "        policy = agent.predict_proba([s])[0]\n",
        "\n",
        "        a = np.random.choice(np.arange(n_actions),\n",
        "                             size = 1,\n",
        "                             p=policy)[0]\n",
        "\n",
        "        new_s, r, done, info = env.step(a)\n",
        "\n",
        "        # Record state, action and add up reward to states,actions and total_reward accordingly.\n",
        "        states.append(s)\n",
        "        actions.append(a)\n",
        "        total_reward += custom_reward(s)\n",
        "        total_real_reward += r\n",
        "\n",
        "        s = new_s\n",
        "        \n",
        "        if done:\n",
        "            break\n",
        "    return states, actions, total_reward, total_real_reward"
      ],
      "execution_count": 0,
      "outputs": []
    },
    {
      "cell_type": "code",
      "metadata": {
        "id": "soOxRLwNLRXv",
        "colab_type": "code",
        "colab": {}
      },
      "source": [
        "def select_elites(states_batch, actions_batch, rewards_batch, percentile=50):\n",
        "\n",
        "    \"\"\"\n",
        "    Select states and actions from games that have rewards >= percentile\n",
        "    :param states_batch: list of lists of states, states_batch[session_i][t]\n",
        "    :param actions_batch: list of lists of actions, actions_batch[session_i][t]\n",
        "    :param rewards_batch: list of rewards, rewards_batch[session_i]\n",
        "\n",
        "    :returns: elite_states,elite_actions, both 1D lists of states and respective actions from elite sessions\n",
        "    \"\"\"\n",
        "\n",
        "    reward_threshold = np.percentile(rewards_batch, percentile)\n",
        "\n",
        "    elite_states = [states_batch[i] for i,r_i in enumerate(rewards_batch) if r_i > reward_threshold] \n",
        "    elite_actions = [actions_batch[i] for i,r_i in enumerate(rewards_batch) if r_i > reward_threshold] \n",
        "\n",
        "\n",
        "    elite_states_all = np.concatenate(elite_states)\n",
        "    elite_actions_all = np.concatenate(elite_actions)\n",
        "\n",
        "    elite_states_actions = []  \n",
        "    for s,a in zip(elite_states_all, elite_actions_all):\n",
        "        elite_states_actions.append([s,a])\n",
        "\n",
        "    elite_states_actions = np.array(elite_states_actions)\n",
        "    elite_states, elite_actions = elite_states_actions[:,0], elite_states_actions[:,1]\n",
        "\n",
        "    return elite_states, elite_actions"
      ],
      "execution_count": 0,
      "outputs": []
    },
    {
      "cell_type": "code",
      "metadata": {
        "id": "zQmzA0VLV7xh",
        "colab_type": "code",
        "colab": {
          "base_uri": "https://localhost:8080/",
          "height": 400,
          "referenced_widgets": [
            "a88faa6c54f0476aab2c6cdb197a5244",
            "63fc8448b7fb4065bc858c963b0e75ae",
            "944611cc654e42a591655f893d1b5dc8",
            "c6c80d2a8b924bd3a0706715b30fa190",
            "9151c44b935642ee881e75f1003d8c7b",
            "b76f40eb77104d7996d321eb9405d493",
            "a33ead7410e04d39b13a1bc69621d77c",
            "cbd752cef05e4d90b72015953381ea04"
          ]
        },
        "outputId": "63986a73-ddd7-4898-bba6-1bac37db76dd"
      },
      "source": [
        "n_sessions = 100\n",
        "percentile = 70\n",
        "n_epochs = 1000\n",
        "session_ticks = 15000\n",
        "env = gym.make(\"MountainCar-v0\").env\n",
        "n_actions = env.action_space.n\n",
        "agent = MLPClassifier(hidden_layer_sizes=(32, 64, 32),\n",
        "                      activation='tanh',\n",
        "                      warm_start=True,  \n",
        "                      max_iter=1 \n",
        "                      )\n",
        "# initialize agent to the dimension of state an amount of actions\n",
        "agent.fit(np.array([env.reset()]*n_actions), np.arange(n_actions))\n",
        "t_0 = time.time()\n",
        "log_dict = defaultdict(list)\n",
        "\n",
        "for i in range(n_epochs):\n",
        "    print (f'Epoch {i}')\n",
        "    # generate new sessions\n",
        "    sessions = [ generate_session(agent, env, t_max=session_ticks) for session_number in tqdm_notebook(range(n_sessions)) ]\n",
        "\n",
        "    states_batch, actions_batch, rewards_batch, real_rewards_batch = map(np.array, zip(*sessions))\n",
        "\n",
        "    elite_states, elite_actions =  select_elites(states_batch, \n",
        "                                                 actions_batch, \n",
        "                                                 rewards_batch, \n",
        "                                                 percentile=percentile)\n",
        "    \n",
        "    # make one agent's optimization step \n",
        "    agent.fit(np.stack(elite_states), elite_actions.astype(int))\n",
        "\n",
        "    # logs\n",
        "    mean_reward = np.mean(rewards_batch)\n",
        "    mean_real_reward = np.mean(real_rewards_batch)\n",
        "    threshold = np.percentile(rewards_batch, percentile)\n",
        "\n",
        "    log_dict['mean_real_reward'].append(mean_real_reward)\n",
        "    log_dict['mean_reward'].append(mean_reward)\n",
        "    log_dict['threshold'].append(threshold)\n",
        "\n",
        "    clear_output(True)\n",
        "    print(\"mean reward = %.3f, threshold=%.3f\" % (mean_reward, threshold))\n",
        "    plt.figure(figsize=[8, 4])\n",
        "    plt.subplot(1, 3, 1)\n",
        "    plt.plot(log_dict['mean_reward'], label='Mean rewards')\n",
        "    plt.plot(log_dict['threshold'], label='Reward thresholds')\n",
        "    plt.legend()\n",
        "    plt.grid()\n",
        "\n",
        "    plt.subplot(1, 3, 2)\n",
        "    plt.hist(rewards_batch)\n",
        "    plt.vlines([np.percentile(rewards_batch, percentile)],\n",
        "               [0], [100], label=\"percentile\", color='red')\n",
        "    plt.legend()\n",
        "    plt.grid()\n",
        "\n",
        "    plt.subplot(1, 3, 3)\n",
        "    plt.plot(log_dict['mean_real_reward'], label='Real Mean rewards')\n",
        "    plt.legend()\n",
        "    plt.grid()\n",
        "    plt.tight_layout()  \n",
        "    plt.show()\n"
      ],
      "execution_count": 0,
      "outputs": [
        {
          "output_type": "stream",
          "text": [
            "mean reward = 3811.943, threshold=4644.091\n"
          ],
          "name": "stdout"
        },
        {
          "output_type": "display_data",
          "data": {
            "image/png": "[encoded data removed]",
            "text/plain": [
              "<Figure size 576x288 with 3 Axes>"
            ]
          },
          "metadata": {
            "tags": []
          }
        },
        {
          "output_type": "stream",
          "text": [
            "Epoch 4\n"
          ],
          "name": "stdout"
        },
        {
          "output_type": "stream",
          "text": [
            "/usr/local/lib/python3.6/dist-packages/ipykernel_launcher.py:20: TqdmDeprecationWarning: This function will be removed in tqdm==5.0.0\n",
            "Please use `tqdm.notebook.tqdm` instead of `tqdm.tqdm_notebook`\n"
          ],
          "name": "stderr"
        },
        {
          "output_type": "display_data",
          "data": {
            "application/vnd.jupyter.widget-view+json": {
              "model_id": "a88faa6c54f0476aab2c6cdb197a5244",
              "version_minor": 0,
              "version_major": 2
            },
            "text/plain": [
              "HBox(children=(IntProgress(value=0), HTML(value='')))"
            ]
          },
          "metadata": {
            "tags": []
          }
        }
      ]
    },
    {
      "cell_type": "code",
      "metadata": {
        "id": "3VTt6Xv73D84",
        "colab_type": "code",
        "colab": {}
      },
      "source": [
        ""
      ],
      "execution_count": 0,
      "outputs": []
    }
  ]
}