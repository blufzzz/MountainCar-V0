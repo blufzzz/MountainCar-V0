{
  "nbformat": 4,
  "nbformat_minor": 0,
  "metadata": {
    "colab": {
      "name": "MountainCar-v0.ipynb",
      "provenance": [],
      "collapsed_sections": []
    },
    "kernelspec": {
      "name": "python3",
      "display_name": "Python 3"
    },
    "accelerator": "GPU",
    "widgets": {
      "application/vnd.jupyter.widget-state+json": {
        "f0fbfd3c6f7a4947a5634c101fad507e": {
          "model_module": "@jupyter-widgets/controls",
          "model_name": "HBoxModel",
          "state": {
            "_view_name": "HBoxView",
            "_dom_classes": [],
            "_model_name": "HBoxModel",
            "_view_module": "@jupyter-widgets/controls",
            "_model_module_version": "1.5.0",
            "_view_count": null,
            "_view_module_version": "1.5.0",
            "box_style": "",
            "layout": "IPY_MODEL_6be06ba25b874c7497842550708841a5",
            "_model_module": "@jupyter-widgets/controls",
            "children": [
              "IPY_MODEL_81bb5a19654b4364842407272ed21f7a",
              "IPY_MODEL_13093caa8f664550b2ef86d12834b891"
            ]
          }
        },
        "6be06ba25b874c7497842550708841a5": {
          "model_module": "@jupyter-widgets/base",
          "model_name": "LayoutModel",
          "state": {
            "_view_name": "LayoutView",
            "grid_template_rows": null,
            "right": null,
            "justify_content": null,
            "_view_module": "@jupyter-widgets/base",
            "overflow": null,
            "_model_module_version": "1.2.0",
            "_view_count": null,
            "flex_flow": null,
            "width": null,
            "min_width": null,
            "border": null,
            "align_items": null,
            "bottom": null,
            "_model_module": "@jupyter-widgets/base",
            "top": null,
            "grid_column": null,
            "overflow_y": null,
            "overflow_x": null,
            "grid_auto_flow": null,
            "grid_area": null,
            "grid_template_columns": null,
            "flex": null,
            "_model_name": "LayoutModel",
            "justify_items": null,
            "grid_row": null,
            "max_height": null,
            "align_content": null,
            "visibility": null,
            "align_self": null,
            "height": null,
            "min_height": null,
            "padding": null,
            "grid_auto_rows": null,
            "grid_gap": null,
            "max_width": null,
            "order": null,
            "_view_module_version": "1.2.0",
            "grid_template_areas": null,
            "object_position": null,
            "object_fit": null,
            "grid_auto_columns": null,
            "margin": null,
            "display": null,
            "left": null
          }
        },
        "81bb5a19654b4364842407272ed21f7a": {
          "model_module": "@jupyter-widgets/controls",
          "model_name": "IntProgressModel",
          "state": {
            "_view_name": "ProgressView",
            "style": "IPY_MODEL_eba74106406b4424a3787f6c3a12d1e0",
            "_dom_classes": [],
            "description": " 86%",
            "_model_name": "IntProgressModel",
            "bar_style": "",
            "max": 100,
            "_view_module": "@jupyter-widgets/controls",
            "_model_module_version": "1.5.0",
            "value": 86,
            "_view_count": null,
            "_view_module_version": "1.5.0",
            "orientation": "horizontal",
            "min": 0,
            "description_tooltip": null,
            "_model_module": "@jupyter-widgets/controls",
            "layout": "IPY_MODEL_279da9d7fbd1493388d4c58a5d543ac3"
          }
        },
        "13093caa8f664550b2ef86d12834b891": {
          "model_module": "@jupyter-widgets/controls",
          "model_name": "HTMLModel",
          "state": {
            "_view_name": "HTMLView",
            "style": "IPY_MODEL_1f449c5d7762427e9ca59532a3c974bb",
            "_dom_classes": [],
            "description": "",
            "_model_name": "HTMLModel",
            "placeholder": "​",
            "_view_module": "@jupyter-widgets/controls",
            "_model_module_version": "1.5.0",
            "value": " 86/100 [09:10&lt;01:30,  6.47s/it]",
            "_view_count": null,
            "_view_module_version": "1.5.0",
            "description_tooltip": null,
            "_model_module": "@jupyter-widgets/controls",
            "layout": "IPY_MODEL_8a4b7d1c97ed44869db52ac6a55248c9"
          }
        },
        "eba74106406b4424a3787f6c3a12d1e0": {
          "model_module": "@jupyter-widgets/controls",
          "model_name": "ProgressStyleModel",
          "state": {
            "_view_name": "StyleView",
            "_model_name": "ProgressStyleModel",
            "description_width": "initial",
            "_view_module": "@jupyter-widgets/base",
            "_model_module_version": "1.5.0",
            "_view_count": null,
            "_view_module_version": "1.2.0",
            "bar_color": null,
            "_model_module": "@jupyter-widgets/controls"
          }
        },
        "279da9d7fbd1493388d4c58a5d543ac3": {
          "model_module": "@jupyter-widgets/base",
          "model_name": "LayoutModel",
          "state": {
            "_view_name": "LayoutView",
            "grid_template_rows": null,
            "right": null,
            "justify_content": null,
            "_view_module": "@jupyter-widgets/base",
            "overflow": null,
            "_model_module_version": "1.2.0",
            "_view_count": null,
            "flex_flow": null,
            "width": null,
            "min_width": null,
            "border": null,
            "align_items": null,
            "bottom": null,
            "_model_module": "@jupyter-widgets/base",
            "top": null,
            "grid_column": null,
            "overflow_y": null,
            "overflow_x": null,
            "grid_auto_flow": null,
            "grid_area": null,
            "grid_template_columns": null,
            "flex": null,
            "_model_name": "LayoutModel",
            "justify_items": null,
            "grid_row": null,
            "max_height": null,
            "align_content": null,
            "visibility": null,
            "align_self": null,
            "height": null,
            "min_height": null,
            "padding": null,
            "grid_auto_rows": null,
            "grid_gap": null,
            "max_width": null,
            "order": null,
            "_view_module_version": "1.2.0",
            "grid_template_areas": null,
            "object_position": null,
            "object_fit": null,
            "grid_auto_columns": null,
            "margin": null,
            "display": null,
            "left": null
          }
        },
        "1f449c5d7762427e9ca59532a3c974bb": {
          "model_module": "@jupyter-widgets/controls",
          "model_name": "DescriptionStyleModel",
          "state": {
            "_view_name": "StyleView",
            "_model_name": "DescriptionStyleModel",
            "description_width": "",
            "_view_module": "@jupyter-widgets/base",
            "_model_module_version": "1.5.0",
            "_view_count": null,
            "_view_module_version": "1.2.0",
            "_model_module": "@jupyter-widgets/controls"
          }
        },
        "8a4b7d1c97ed44869db52ac6a55248c9": {
          "model_module": "@jupyter-widgets/base",
          "model_name": "LayoutModel",
          "state": {
            "_view_name": "LayoutView",
            "grid_template_rows": null,
            "right": null,
            "justify_content": null,
            "_view_module": "@jupyter-widgets/base",
            "overflow": null,
            "_model_module_version": "1.2.0",
            "_view_count": null,
            "flex_flow": null,
            "width": null,
            "min_width": null,
            "border": null,
            "align_items": null,
            "bottom": null,
            "_model_module": "@jupyter-widgets/base",
            "top": null,
            "grid_column": null,
            "overflow_y": null,
            "overflow_x": null,
            "grid_auto_flow": null,
            "grid_area": null,
            "grid_template_columns": null,
            "flex": null,
            "_model_name": "LayoutModel",
            "justify_items": null,
            "grid_row": null,
            "max_height": null,
            "align_content": null,
            "visibility": null,
            "align_self": null,
            "height": null,
            "min_height": null,
            "padding": null,
            "grid_auto_rows": null,
            "grid_gap": null,
            "max_width": null,
            "order": null,
            "_view_module_version": "1.2.0",
            "grid_template_areas": null,
            "object_position": null,
            "object_fit": null,
            "grid_auto_columns": null,
            "margin": null,
            "display": null,
            "left": null
          }
        }
      }
    }
  },
  "cells": [
    {
      "cell_type": "code",
      "metadata": {
        "id": "9KVNbCgOact3",
        "colab_type": "code",
        "colab": {}
      },
      "source": [
        "import numpy as np\n",
        "import matplotlib.pyplot as plt\n",
        "from IPython.display import  clear_output\n",
        "%matplotlib inline"
      ],
      "execution_count": 0,
      "outputs": []
    },
    {
      "cell_type": "code",
      "metadata": {
        "id": "ynER-jAVKydK",
        "colab_type": "code",
        "colab": {}
      },
      "source": [
        "# solution for Google Colab rendering from here: https://star-ai.github.io/Rendering-OpenAi-Gym-in-Colaboratory/\n",
        "!pip install gym pyvirtualdisplay > /dev/null 2>&1\n",
        "!apt-get install -y xvfb python-opengl ffmpeg > /dev/null 2>&1\n",
        "!apt-get install x11-utils\n",
        "clear_output()"
      ],
      "execution_count": 0,
      "outputs": []
    },
    {
      "cell_type": "code",
      "metadata": {
        "id": "9IG9Ng6VND9k",
        "colab_type": "code",
        "colab": {}
      },
      "source": [
        "\n",
        "def show_video():\n",
        "  mp4list = glob.glob('video/*.mp4')\n",
        "  if len(mp4list) > 0:\n",
        "    mp4 = mp4list[0]\n",
        "    video = io.open(mp4, 'r+b').read()\n",
        "    encoded = base64.b64encode(video)\n",
        "    ipythondisplay.display(HTML(data='''<video alt=\"test\" autoplay \n",
        "                loop controls style=\"height: 400px;\">\n",
        "                <source src=\"data:video/mp4;base64,{0}\" type=\"video/mp4\" />\n",
        "             </video>'''.format(encoded.decode('ascii'))))\n",
        "  else: \n",
        "    print(\"Could not find video\")\n",
        "\n",
        "def wrap_env(env):\n",
        "  env = Monitor(env, './video', force=True)\n",
        "  return env    "
      ],
      "execution_count": 0,
      "outputs": []
    },
    {
      "cell_type": "code",
      "metadata": {
        "id": "Q_ZG-crXact-",
        "colab_type": "code",
        "colab": {
          "base_uri": "https://localhost:8080/",
          "height": 52
        },
        "outputId": "5ca7ead6-af03-4fd4-ac25-68e1af93ecbe"
      },
      "source": [
        "import gym\n",
        "from gym import logger as gymlogger\n",
        "from gym.wrappers import Monitor\n",
        "gymlogger.set_level(40) #error only\n",
        "import math\n",
        "import glob\n",
        "import io\n",
        "import base64\n",
        "from IPython.display import HTML\n",
        "from IPython import display as ipythondisplay\n",
        "\n",
        "from pyvirtualdisplay import Display\n",
        "display = Display(visible=0, size=(1400, 900))\n",
        "display.start()\n",
        "\n",
        "env = gym.make(\"MountainCar-v0\")\n",
        "env = wrap_env(env)\n",
        "\n",
        "print(\"Observation space:\", env.observation_space)\n",
        "print(\"Action space:\", env.action_space)"
      ],
      "execution_count": 4,
      "outputs": [
        {
          "output_type": "stream",
          "text": [
            "Observation space: Box(2,)\n",
            "Action space: Discrete(3)\n"
          ],
          "name": "stdout"
        }
      ]
    },
    {
      "cell_type": "code",
      "metadata": {
        "scrolled": true,
        "id": "QCi1uhQracuH",
        "colab_type": "code",
        "outputId": "a266930f-ea5d-4f7e-dad3-0907e4b9193a",
        "colab": {
          "base_uri": "https://localhost:8080/",
          "height": 286
        }
      },
      "source": [
        "obs0 = env.reset()\n",
        "print(\"initial observation code:\", obs0)\n",
        "plt.figure()\n",
        "plt.imshow(env.render('rgb_array'))\n",
        "plt.show()\n",
        "# Note: in MountainCar, observation is just two numbers: car position and velocity"
      ],
      "execution_count": 5,
      "outputs": [
        {
          "output_type": "stream",
          "text": [
            "initial observation code: [-0.40827274  0.        ]\n"
          ],
          "name": "stdout"
        },
        {
          "output_type": "display_data",
          "data": {
            "image/png": "[encoded data removed]",
            "text/plain": [
              "<Figure size 432x288 with 1 Axes>"
            ]
          },
          "metadata": {
            "tags": []
          }
        }
      ]
    },
    {
      "cell_type": "markdown",
      "metadata": {
        "id": "CPnk-nfGLFol",
        "colab_type": "text"
      },
      "source": [
        "# Intro\n",
        "In this environment, you get a reward of +100 when the car reaches the goal position at the top. But reward function is sparse since until the car reach the goal it won't get anything. It's unlikely that with randomly initialized policy agent will reach the goal, get reward's feedback and update the policy. So to tackle this problem let's introduce new reward function `custom_reward`.\n",
        "\n",
        "Some function templates were taken from https://github.com/yandexdataschool/Practical_RL/tree/coursera\n"
      ]
    },
    {
      "cell_type": "markdown",
      "metadata": {
        "id": "Q_8OsAmpLOJ6",
        "colab_type": "text"
      },
      "source": [
        "# Cross Entropy Method"
      ]
    },
    {
      "cell_type": "code",
      "metadata": {
        "id": "mvXZWz5dZDyV",
        "colab_type": "code",
        "colab": {}
      },
      "source": [
        "def custom_reward(state):\n",
        "    if state[0] >= 0.5:\n",
        "        return 10\n",
        "    if state[0] > -0.4:\n",
        "        return (1+state[0])**2\n",
        "    return 0"
      ],
      "execution_count": 0,
      "outputs": []
    },
    {
      "cell_type": "code",
      "metadata": {
        "id": "FvtdilX9RbOI",
        "colab_type": "code",
        "colab": {}
      },
      "source": [
        "def generate_session(agent, env, t_max=10**4):\n",
        "    \"\"\"\n",
        "    Play game until end or for t_max ticks.\n",
        "    :param policy: an array of shape [n_states,n_actions] with action probabilities\n",
        "    :returns: list of states, list of actions and sum of rewards\n",
        "    \"\"\"\n",
        "    states, actions = [], []\n",
        "    total_reward = 0.\n",
        "    total_real_reward = 0.\n",
        "\n",
        "    n_actions = env.action_space.n\n",
        "    s = env.reset()\n",
        "\n",
        "    for t in range(t_max):\n",
        "\n",
        "        # unsqueeze batch dimesion\n",
        "        s_tensor = torch.tensor(s, dtype=torch.float).unsqueeze(0).cuda()\n",
        "        policy = agent(s_tensor).softmax(-1)\n",
        "        policy = policy.squeeze().detach().cpu().numpy()\n",
        "\n",
        "        a = np.random.choice(np.arange(n_actions),\n",
        "                             size = 1,\n",
        "                             p=policy)[0]\n",
        "\n",
        "        new_s, r, done, info = env.step(a)\n",
        "\n",
        "        # Record state, action and add up reward to states,actions and total_reward accordingly.\n",
        "        states.append(s)\n",
        "        actions.append(a)\n",
        "        total_reward += custom_reward(s)\n",
        "        total_real_reward += r\n",
        "\n",
        "        s = new_s\n",
        "        \n",
        "        if done:\n",
        "            break\n",
        "    return states, actions, total_reward, total_real_reward"
      ],
      "execution_count": 0,
      "outputs": []
    },
    {
      "cell_type": "code",
      "metadata": {
        "id": "soOxRLwNLRXv",
        "colab_type": "code",
        "colab": {}
      },
      "source": [
        "def select_elites(states_batch, actions_batch, rewards_batch, percentile=50):\n",
        "\n",
        "    \"\"\"\n",
        "    Select states and actions from games that have rewards >= percentile\n",
        "    :param states_batch: list of lists of states, states_batch[session_i][t]\n",
        "    :param actions_batch: list of lists of actions, actions_batch[session_i][t]\n",
        "    :param rewards_batch: list of rewards, rewards_batch[session_i]\n",
        "\n",
        "    :returns: elite_states,elite_actions, both 1D lists of states and respective actions from elite sessions\n",
        "    \"\"\"\n",
        "\n",
        "    reward_threshold = np.percentile(rewards_batch, percentile)\n",
        "\n",
        "    elite_states = [states_batch[i] for i,r_i in enumerate(rewards_batch) if r_i >= reward_threshold] \n",
        "    elite_actions = [actions_batch[i] for i,r_i in enumerate(rewards_batch) if r_i >= reward_threshold] \n",
        "\n",
        "\n",
        "    elite_states_all = np.concatenate(elite_states)\n",
        "    elite_actions_all = np.concatenate(elite_actions)\n",
        "\n",
        "    elite_states_actions = []  \n",
        "    for s,a in zip(elite_states_all, elite_actions_all):\n",
        "        elite_states_actions.append([s,a])\n",
        "\n",
        "    elite_states_actions = np.array(elite_states_actions)\n",
        "    elite_states, elite_actions = elite_states_actions[:,0], elite_states_actions[:,1]\n",
        "\n",
        "    return elite_states, elite_actions"
      ],
      "execution_count": 0,
      "outputs": []
    },
    {
      "cell_type": "code",
      "metadata": {
        "id": "aiWSLBEDRxGi",
        "colab_type": "code",
        "colab": {}
      },
      "source": [
        "# create agent\n",
        "import torch\n",
        "import torch.nn as nn\n",
        "from torch.optim import Adam\n",
        "import time\n",
        "from collections import defaultdict\n",
        "from tqdm import tqdm_notebook\n",
        "\n",
        "class MLP(nn.Module):\n",
        "    def __init__(self, input_dim,\n",
        "                     out_dim,\n",
        "                     n_hidden_layers=3,\n",
        "                     hidden_dim=64):\n",
        "        super(MLP, self).__init__()\n",
        "\n",
        "        self.layers = nn.Sequential( \n",
        "                      nn.Linear(input_dim, hidden_dim),\n",
        "                      nn.ReLU()\n",
        "                      )\n",
        "        for i in range(n_hidden_layers):\n",
        "            self.layers.add_module(f'linear_{i}',nn.Linear(hidden_dim, hidden_dim))\n",
        "            self.layers.add_module(f'relu_{i}',nn.ReLU())\n",
        "\n",
        "        self.layers.add_module(f'linear_out',nn.Linear(hidden_dim, out_dim))\n",
        "        self.layers.add_module(f'relu_out',nn.ReLU())\n",
        "\n",
        "    def forward(self,x):\n",
        "        x = self.layers(x)\n",
        "        return x\n"
      ],
      "execution_count": 0,
      "outputs": []
    },
    {
      "cell_type": "code",
      "metadata": {
        "id": "Z24JYXD5dpza",
        "colab_type": "code",
        "colab": {}
      },
      "source": [
        "def fit(agent, optimizer, criterion, X, y, batch_size=500, shuffle=True):\n",
        "    \n",
        "    n_samples = X.shape[0]\n",
        "\n",
        "    for i in range(0,n_samples,batch_size):\n",
        "\n",
        "        x_batch = torch.tensor(X[i:i+batch_size], dtype=torch.float).cuda()\n",
        "        y_batch = torch.tensor(y[i:i+batch_size], dtype=torch.long).cuda()\n",
        "\n",
        "        y_pred = agent(x_batch)\n",
        "        loss = criterion(y_pred,y_batch)\n",
        "        loss.backward()\n",
        "        optimizer.step()\n"
      ],
      "execution_count": 0,
      "outputs": []
    },
    {
      "cell_type": "code",
      "metadata": {
        "id": "zQmzA0VLV7xh",
        "colab_type": "code",
        "colab": {
          "base_uri": "https://localhost:8080/",
          "height": 336,
          "referenced_widgets": [
            "f0fbfd3c6f7a4947a5634c101fad507e",
            "6be06ba25b874c7497842550708841a5",
            "81bb5a19654b4364842407272ed21f7a",
            "13093caa8f664550b2ef86d12834b891",
            "eba74106406b4424a3787f6c3a12d1e0",
            "279da9d7fbd1493388d4c58a5d543ac3",
            "1f449c5d7762427e9ca59532a3c974bb",
            "8a4b7d1c97ed44869db52ac6a55248c9"
          ]
        },
        "outputId": "e28ac2a9-079b-42ed-c8c9-91f1abd180e3"
      },
      "source": [
        "n_sessions = 100\n",
        "percentile = 70\n",
        "n_epochs = 1000\n",
        "session_ticks = 10000\n",
        "\n",
        "env = gym.make(\"MountainCar-v0\").env\n",
        "agent_CE = MLP(2,3).cuda()\n",
        "optimizer_CE = Adam(agent_CE.parameters(), lr=1e-3)\n",
        "criterion_CE = nn.CrossEntropyLoss()\n",
        "\n",
        "t_0 = time.time()\n",
        "log_dict = defaultdict(list)\n",
        "\n",
        "for i in range(n_epochs):\n",
        "    print (f'Epoch {i}')\n",
        "    # generate new sessions\n",
        "    sessions = [ generate_session(agent_CE, env, t_max=session_ticks) for session_number in tqdm_notebook(range(n_sessions)) ]\n",
        "\n",
        "    states_batch, actions_batch, rewards_batch, real_rewards_batch = map(np.array, zip(*sessions))\n",
        "\n",
        "    elite_states, elite_actions =  select_elites(states_batch, \n",
        "                                                 actions_batch, \n",
        "                                                 rewards_batch, \n",
        "                                                 percentile=percentile)\n",
        "    \n",
        "    # make one agent's optimization step \n",
        "    fit(agent_CE, optimizer_CE, criterion_CE, np.stack(elite_states), elite_actions.astype(int))\n",
        "\n",
        "    # logs\n",
        "    mean_reward = np.mean(rewards_batch)\n",
        "    mean_real_reward = np.mean(real_rewards_batch)\n",
        "    threshold = np.percentile(rewards_batch, percentile)\n",
        "\n",
        "    log_dict['mean_real_reward'].append(mean_real_reward)\n",
        "    log_dict['mean_reward'].append(mean_reward)\n",
        "    log_dict['threshold'].append(threshold)\n",
        "\n",
        "    clear_output(True)\n",
        "    print(\"mean reward = %.3f, threshold=%.3f\" % (mean_reward, threshold))\n",
        "    plt.figure(figsize=[8, 4])\n",
        "    plt.subplot(1, 3, 1)\n",
        "    plt.plot(log_dict['mean_reward'], label='Mean rewards')\n",
        "    plt.plot(log_dict['threshold'], label='Reward thresholds')\n",
        "    plt.legend()\n",
        "    plt.grid()\n",
        "\n",
        "    plt.subplot(1, 3, 2)\n",
        "    plt.hist(rewards_batch)\n",
        "    plt.vlines([np.percentile(rewards_batch, percentile)],\n",
        "               [0], [100], label=\"percentile\", color='red')\n",
        "    plt.legend()\n",
        "    plt.grid()\n",
        "\n",
        "    plt.subplot(1, 3, 3)\n",
        "    plt.plot(log_dict['mean_real_reward'], label='Real Mean rewards')\n",
        "    plt.legend()\n",
        "    plt.grid()\n",
        "\n",
        "    plt.show()"
      ],
      "execution_count": 0,
      "outputs": [
        {
          "output_type": "stream",
          "text": [
            "mean reward = 2411.921, threshold=2737.941\n"
          ],
          "name": "stdout"
        },
        {
          "output_type": "display_data",
          "data": {
            "image/png": "[encoded data removed]",
            "text/plain": [
              "<Figure size 576x288 with 3 Axes>"
            ]
          },
          "metadata": {
            "tags": []
          }
        },
        {
          "output_type": "stream",
          "text": [
            "Epoch 4\n"
          ],
          "name": "stdout"
        },
        {
          "output_type": "display_data",
          "data": {
            "application/vnd.jupyter.widget-view+json": {
              "model_id": "f0fbfd3c6f7a4947a5634c101fad507e",
              "version_minor": 0,
              "version_major": 2
            },
            "text/plain": [
              "HBox(children=(IntProgress(value=0), HTML(value='')))"
            ]
          },
          "metadata": {
            "tags": []
          }
        }
      ]
    },
    {
      "cell_type": "markdown",
      "metadata": {
        "id": "gndq3OSNLR0p",
        "colab_type": "text"
      },
      "source": [
        "# Deep Q-Learning"
      ]
    },
    {
      "cell_type": "code",
      "metadata": {
        "id": "sctG5HwCJJZG",
        "colab_type": "code",
        "colab": {}
      },
      "source": [
        "# TO-DO"
      ],
      "execution_count": 0,
      "outputs": []
    },
    {
      "cell_type": "code",
      "metadata": {
        "id": "aNeFckvjJK4f",
        "colab_type": "code",
        "colab": {}
      },
      "source": [
        ""
      ],
      "execution_count": 0,
      "outputs": []
    }
  ]
}