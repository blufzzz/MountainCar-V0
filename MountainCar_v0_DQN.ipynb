{
  "nbformat": 4,
  "nbformat_minor": 0,
  "metadata": {
    "colab": {
      "name": "MountainCar-v0-DQN.ipynb",
      "provenance": [],
      "collapsed_sections": []
    },
    "kernelspec": {
      "name": "python3",
      "display_name": "Python 3"
    },
    "accelerator": "GPU",
    "widgets": {
      "application/vnd.jupyter.widget-state+json": {
        "6ae534b6539147c6a4a312fad2898683": {
          "model_module": "@jupyter-widgets/controls",
          "model_name": "HBoxModel",
          "state": {
            "_view_name": "HBoxView",
            "_dom_classes": [],
            "_model_name": "HBoxModel",
            "_view_module": "@jupyter-widgets/controls",
            "_model_module_version": "1.5.0",
            "_view_count": null,
            "_view_module_version": "1.5.0",
            "box_style": "",
            "layout": "IPY_MODEL_c4780d0602b641fb9b31c25b7a8b2a54",
            "_model_module": "@jupyter-widgets/controls",
            "children": [
              "IPY_MODEL_4ddfbe0438fa42f5a885c65e9b8ac174",
              "IPY_MODEL_e428df92707e4f53ad256ce3d03856f4"
            ]
          }
        },
        "c4780d0602b641fb9b31c25b7a8b2a54": {
          "model_module": "@jupyter-widgets/base",
          "model_name": "LayoutModel",
          "state": {
            "_view_name": "LayoutView",
            "grid_template_rows": null,
            "right": null,
            "justify_content": null,
            "_view_module": "@jupyter-widgets/base",
            "overflow": null,
            "_model_module_version": "1.2.0",
            "_view_count": null,
            "flex_flow": null,
            "width": null,
            "min_width": null,
            "border": null,
            "align_items": null,
            "bottom": null,
            "_model_module": "@jupyter-widgets/base",
            "top": null,
            "grid_column": null,
            "overflow_y": null,
            "overflow_x": null,
            "grid_auto_flow": null,
            "grid_area": null,
            "grid_template_columns": null,
            "flex": null,
            "_model_name": "LayoutModel",
            "justify_items": null,
            "grid_row": null,
            "max_height": null,
            "align_content": null,
            "visibility": null,
            "align_self": null,
            "height": null,
            "min_height": null,
            "padding": null,
            "grid_auto_rows": null,
            "grid_gap": null,
            "max_width": null,
            "order": null,
            "_view_module_version": "1.2.0",
            "grid_template_areas": null,
            "object_position": null,
            "object_fit": null,
            "grid_auto_columns": null,
            "margin": null,
            "display": null,
            "left": null
          }
        },
        "4ddfbe0438fa42f5a885c65e9b8ac174": {
          "model_module": "@jupyter-widgets/controls",
          "model_name": "IntProgressModel",
          "state": {
            "_view_name": "ProgressView",
            "style": "IPY_MODEL_ff67cecbae8a469ab3566e08ba1f587a",
            "_dom_classes": [],
            "description": "  1%",
            "_model_name": "IntProgressModel",
            "bar_style": "",
            "max": 150000,
            "_view_module": "@jupyter-widgets/controls",
            "_model_module_version": "1.5.0",
            "value": 992,
            "_view_count": null,
            "_view_module_version": "1.5.0",
            "orientation": "horizontal",
            "min": 0,
            "description_tooltip": null,
            "_model_module": "@jupyter-widgets/controls",
            "layout": "IPY_MODEL_5d17cdb315c045109e4a1565eb11afb1"
          }
        },
        "e428df92707e4f53ad256ce3d03856f4": {
          "model_module": "@jupyter-widgets/controls",
          "model_name": "HTMLModel",
          "state": {
            "_view_name": "HTMLView",
            "style": "IPY_MODEL_3db60fb402ea47d0b0e927797e21975b",
            "_dom_classes": [],
            "description": "",
            "_model_name": "HTMLModel",
            "placeholder": "​",
            "_view_module": "@jupyter-widgets/controls",
            "_model_module_version": "1.5.0",
            "value": " 992/150000 [00:20&lt;13:56, 178.06it/s]",
            "_view_count": null,
            "_view_module_version": "1.5.0",
            "description_tooltip": null,
            "_model_module": "@jupyter-widgets/controls",
            "layout": "IPY_MODEL_1513c6e4149e4232a54454376284bb94"
          }
        },
        "ff67cecbae8a469ab3566e08ba1f587a": {
          "model_module": "@jupyter-widgets/controls",
          "model_name": "ProgressStyleModel",
          "state": {
            "_view_name": "StyleView",
            "_model_name": "ProgressStyleModel",
            "description_width": "initial",
            "_view_module": "@jupyter-widgets/base",
            "_model_module_version": "1.5.0",
            "_view_count": null,
            "_view_module_version": "1.2.0",
            "bar_color": null,
            "_model_module": "@jupyter-widgets/controls"
          }
        },
        "5d17cdb315c045109e4a1565eb11afb1": {
          "model_module": "@jupyter-widgets/base",
          "model_name": "LayoutModel",
          "state": {
            "_view_name": "LayoutView",
            "grid_template_rows": null,
            "right": null,
            "justify_content": null,
            "_view_module": "@jupyter-widgets/base",
            "overflow": null,
            "_model_module_version": "1.2.0",
            "_view_count": null,
            "flex_flow": null,
            "width": null,
            "min_width": null,
            "border": null,
            "align_items": null,
            "bottom": null,
            "_model_module": "@jupyter-widgets/base",
            "top": null,
            "grid_column": null,
            "overflow_y": null,
            "overflow_x": null,
            "grid_auto_flow": null,
            "grid_area": null,
            "grid_template_columns": null,
            "flex": null,
            "_model_name": "LayoutModel",
            "justify_items": null,
            "grid_row": null,
            "max_height": null,
            "align_content": null,
            "visibility": null,
            "align_self": null,
            "height": null,
            "min_height": null,
            "padding": null,
            "grid_auto_rows": null,
            "grid_gap": null,
            "max_width": null,
            "order": null,
            "_view_module_version": "1.2.0",
            "grid_template_areas": null,
            "object_position": null,
            "object_fit": null,
            "grid_auto_columns": null,
            "margin": null,
            "display": null,
            "left": null
          }
        },
        "3db60fb402ea47d0b0e927797e21975b": {
          "model_module": "@jupyter-widgets/controls",
          "model_name": "DescriptionStyleModel",
          "state": {
            "_view_name": "StyleView",
            "_model_name": "DescriptionStyleModel",
            "description_width": "",
            "_view_module": "@jupyter-widgets/base",
            "_model_module_version": "1.5.0",
            "_view_count": null,
            "_view_module_version": "1.2.0",
            "_model_module": "@jupyter-widgets/controls"
          }
        },
        "1513c6e4149e4232a54454376284bb94": {
          "model_module": "@jupyter-widgets/base",
          "model_name": "LayoutModel",
          "state": {
            "_view_name": "LayoutView",
            "grid_template_rows": null,
            "right": null,
            "justify_content": null,
            "_view_module": "@jupyter-widgets/base",
            "overflow": null,
            "_model_module_version": "1.2.0",
            "_view_count": null,
            "flex_flow": null,
            "width": null,
            "min_width": null,
            "border": null,
            "align_items": null,
            "bottom": null,
            "_model_module": "@jupyter-widgets/base",
            "top": null,
            "grid_column": null,
            "overflow_y": null,
            "overflow_x": null,
            "grid_auto_flow": null,
            "grid_area": null,
            "grid_template_columns": null,
            "flex": null,
            "_model_name": "LayoutModel",
            "justify_items": null,
            "grid_row": null,
            "max_height": null,
            "align_content": null,
            "visibility": null,
            "align_self": null,
            "height": null,
            "min_height": null,
            "padding": null,
            "grid_auto_rows": null,
            "grid_gap": null,
            "max_width": null,
            "order": null,
            "_view_module_version": "1.2.0",
            "grid_template_areas": null,
            "object_position": null,
            "object_fit": null,
            "grid_auto_columns": null,
            "margin": null,
            "display": null,
            "left": null
          }
        }
      }
    }
  },
  "cells": [
    {
      "cell_type": "code",
      "metadata": {
        "id": "9KVNbCgOact3",
        "colab_type": "code",
        "colab": {}
      },
      "source": [
        "import numpy as np\n",
        "import matplotlib.pyplot as plt\n",
        "from IPython.display import  clear_output\n",
        "%matplotlib inline"
      ],
      "execution_count": 0,
      "outputs": []
    },
    {
      "cell_type": "code",
      "metadata": {
        "id": "ynER-jAVKydK",
        "colab_type": "code",
        "colab": {}
      },
      "source": [
        "# solution for Google Colab rendering from here: https://star-ai.github.io/Rendering-OpenAi-Gym-in-Colaboratory/\n",
        "!pip install gym pyvirtualdisplay > /dev/null 2>&1\n",
        "!apt-get install -y xvfb python-opengl ffmpeg > /dev/null 2>&1\n",
        "!apt-get install x11-utils\n",
        "clear_output()"
      ],
      "execution_count": 0,
      "outputs": []
    },
    {
      "cell_type": "code",
      "metadata": {
        "id": "9IG9Ng6VND9k",
        "colab_type": "code",
        "colab": {}
      },
      "source": [
        "\n",
        "def show_video():\n",
        "  mp4list = glob.glob('video/*.mp4')\n",
        "  if len(mp4list) > 0:\n",
        "    mp4 = mp4list[0]\n",
        "    video = io.open(mp4, 'r+b').read()\n",
        "    encoded = base64.b64encode(video)\n",
        "    ipythondisplay.display(HTML(data='''<video alt=\"test\" autoplay \n",
        "                loop controls style=\"height: 400px;\">\n",
        "                <source src=\"data:video/mp4;base64,{0}\" type=\"video/mp4\" />\n",
        "             </video>'''.format(encoded.decode('ascii'))))\n",
        "  else: \n",
        "    print(\"Could not find video\")\n",
        "\n",
        "def wrap_env(env):\n",
        "  env = Monitor(env, './video', force=True)\n",
        "  return env    "
      ],
      "execution_count": 0,
      "outputs": []
    },
    {
      "cell_type": "code",
      "metadata": {
        "id": "Q_ZG-crXact-",
        "colab_type": "code",
        "outputId": "84b58135-8e88-476c-9d88-a65f7133b54e",
        "colab": {
          "base_uri": "https://localhost:8080/",
          "height": 52
        }
      },
      "source": [
        "import gym\n",
        "from gym import logger as gymlogger\n",
        "from gym.wrappers import Monitor\n",
        "gymlogger.set_level(40) #error only\n",
        "import math\n",
        "import glob\n",
        "import io\n",
        "import base64\n",
        "from IPython.display import HTML\n",
        "from IPython import display as ipythondisplay\n",
        "from IPython.core.debugger import set_trace\n",
        "import torch\n",
        "import torch.nn as nn\n",
        "from torch.optim import Adam\n",
        "import time\n",
        "from collections import defaultdict\n",
        "from numpy import random\n",
        "import copy\n",
        "from tqdm import tqdm_notebook\n",
        "\n",
        "from pyvirtualdisplay import Display\n",
        "display = Display(visible=0, size=(1400, 900))\n",
        "display.start()\n",
        "\n",
        "env = gym.make(\"MountainCar-v0\")\n",
        "env = wrap_env(env)\n",
        "\n",
        "print(\"Observation space:\", env.observation_space)\n",
        "print(\"Action space:\", env.action_space)"
      ],
      "execution_count": 4,
      "outputs": [
        {
          "output_type": "stream",
          "text": [
            "Observation space: Box(2,)\n",
            "Action space: Discrete(3)\n"
          ],
          "name": "stdout"
        }
      ]
    },
    {
      "cell_type": "markdown",
      "metadata": {
        "id": "gndq3OSNLR0p",
        "colab_type": "text"
      },
      "source": [
        "# Deep Q-Learning"
      ]
    },
    {
      "cell_type": "code",
      "metadata": {
        "id": "aNeFckvjJK4f",
        "colab_type": "code",
        "colab": {}
      },
      "source": [
        "class MLP(nn.Module):\n",
        "    def __init__(self, input_dim,\n",
        "                     out_dim,\n",
        "                     n_hidden_layers=3,\n",
        "                     hidden_dim=64):\n",
        "        super(MLP, self).__init__()\n",
        "\n",
        "        self.layers = nn.Sequential( \n",
        "                      nn.Linear(input_dim, hidden_dim),\n",
        "                      nn.ReLU()\n",
        "                      )\n",
        "        for i in range(n_hidden_layers):\n",
        "            self.layers.add_module(f'linear_{i}',nn.Linear(hidden_dim, hidden_dim))\n",
        "            self.layers.add_module(f'relu_{i}',nn.ReLU())\n",
        "\n",
        "        self.layers.add_module(f'linear_out',nn.Linear(hidden_dim, out_dim))\n",
        "\n",
        "    def forward(self,x):\n",
        "        x = self.layers(x)\n",
        "        return x\n",
        "\n",
        "# model to approximate q-function\n",
        "model = MLP(2,3).cuda() # s->q(a)\n",
        "target_model = MLP(2,3).cuda() # s1->q(a)\n",
        "optimizer = Adam(model.parameters(), lr=0.00003)"
      ],
      "execution_count": 0,
      "outputs": []
    },
    {
      "cell_type": "code",
      "metadata": {
        "id": "KUDOC8WCNJ2C",
        "colab_type": "code",
        "colab": {}
      },
      "source": [
        "# inspierd by https://github.com/transedward/pytorch-dqn/blob/master/dqn_learn.py\n",
        "def prepare_batch(batch):\n",
        "    batch = np.array(batch,dtype=[('state', np.ndarray),\n",
        "                              ('action', np.ndarray),\n",
        "                              ('reward', np.float32),\n",
        "                              ('next_state', np.ndarray),\n",
        "                              ('done', np.bool)])\n",
        "    state = np.stack(batch['state'],0)\n",
        "    action = np.stack(batch['action'],0)\n",
        "    reward = np.stack(batch['reward'],0)\n",
        "    next_state = np.stack(batch['next_state'],0)\n",
        "    done = np.stack(batch['done'],0)\n",
        "\n",
        "    state = torch.tensor(state, dtype=torch.float).cuda()\n",
        "    next_state = torch.tensor(next_state, dtype=torch.float).cuda()\n",
        "    reward = torch.tensor(reward, dtype=torch.float).cuda()\n",
        "    action = torch.tensor(action).cuda()\n",
        "    done = torch.tensor(done).cuda()\n",
        "    return state, action, reward, next_state, done\n",
        "\n",
        "def get_action(state, epsilon, model):\n",
        "    if random.random() < epsilon:\n",
        "        action = random.randint(0, 2)\n",
        "    else:\n",
        "        state_tensor = torch.tensor(state, dtype=torch.float).cuda().unsqueeze(0)\n",
        "        action = model(state_tensor)[0].max(0)[1].view(1, 1).item()  \n",
        "    return action      "
      ],
      "execution_count": 0,
      "outputs": []
    },
    {
      "cell_type": "code",
      "metadata": {
        "id": "TPRqhHMyZsB8",
        "colab_type": "code",
        "colab": {
          "base_uri": "https://localhost:8080/",
          "height": 102,
          "referenced_widgets": [
            "6ae534b6539147c6a4a312fad2898683",
            "c4780d0602b641fb9b31c25b7a8b2a54",
            "4ddfbe0438fa42f5a885c65e9b8ac174",
            "e428df92707e4f53ad256ce3d03856f4",
            "ff67cecbae8a469ab3566e08ba1f587a",
            "5d17cdb315c045109e4a1565eb11afb1",
            "3db60fb402ea47d0b0e927797e21975b",
            "1513c6e4149e4232a54454376284bb94"
          ]
        },
        "outputId": "15dae5eb-0d66-4ac6-92e9-cc24a594539d"
      },
      "source": [
        "# inspired by https://habr.com/ru/company/hsespb/blog/444428/\n",
        "device = 'cuda:0'\n",
        "env = gym.make(\"MountainCar-v0\").env\n",
        "target_update = 1000\n",
        "batch_size = 200\n",
        "max_steps = 150000\n",
        "max_epsilon = 0.5\n",
        "min_epsilon = 0.1\n",
        "gamma = 0.99\n",
        "HISTORY_LENGTH = 10000\n",
        "history = []\n",
        "rewards_by_target_updates = []\n",
        "state = env.reset()\n",
        "\n",
        "for step in tqdm_notebook(range(1,max_steps+1)):\n",
        "\n",
        "      epsilon = max_epsilon - (max_epsilon - min_epsilon)* step / max_steps\n",
        "\n",
        "      action = get_action(state, epsilon, model)\n",
        "\n",
        "      new_state, reward, done, _ = env.step(action)\n",
        "\n",
        "      modified_reward = reward + 300 * (gamma * abs(new_state[1]) - abs(state[1]))\n",
        "      event = [state, action, modified_reward, new_state, done]\n",
        "\n",
        "      # filling history list\n",
        "      n_events = len(history)\n",
        "      if n_events < HISTORY_LENGTH:\n",
        "          history.append(event)\n",
        "      else:\n",
        "          history[step%n_events] = event  \n",
        "      \n",
        "      # change state\n",
        "      if done:\n",
        "          state = env.reset()\n",
        "          done = False\n",
        "      else:\n",
        "          state = new_state\n",
        "\n",
        "      # optimization step\n",
        "      if len(history) > batch_size:\n",
        "            batch_indexes = np.random.choice(np.arange(n_events),batch_size,replace=False)\n",
        "            batch = [tuple(history[i]) for i in batch_indexes]\n",
        "            (state_tensor, \n",
        "            action_tensor, \n",
        "            reward_tensor, \n",
        "            next_state_tensor, \n",
        "            done_tensor) = prepare_batch(batch)\n",
        "            target_q = target_model(next_state_tensor).max(1)[0].view(-1) \n",
        "            target_q[done_tensor] = 0\n",
        "            target_q = reward_tensor + target_q * gamma\n",
        "\n",
        "            q = model(state_tensor).gather(1, action_tensor.unsqueeze(1))\n",
        "\n",
        "            loss = nn.MSELoss()(q, target_q.unsqueeze(1))\n",
        "\n",
        "            optimizer.zero_grad()\n",
        "            loss.backward()\n",
        "            optimizer.step()\n",
        "\n",
        "      if step % target_update == 0:\n",
        "            target_model = copy.deepcopy(model)\n",
        "            #Exploitation\n",
        "            state = env.reset()\n",
        "            total_reward = 0\n",
        "            while not done:\n",
        "                  action = get_action(state, 0, target_model)\n",
        "                  state, reward, done, _ = env.step(action)\n",
        "                  total_reward += reward\n",
        "\n",
        "            done = False\n",
        "            state = env.reset()\n",
        "            rewards_by_target_updates.append(total_reward)"
      ],
      "execution_count": 0,
      "outputs": [
        {
          "output_type": "stream",
          "text": [
            "/usr/local/lib/python3.6/dist-packages/ipykernel_launcher.py:14: TqdmDeprecationWarning: This function will be removed in tqdm==5.0.0\n",
            "Please use `tqdm.notebook.tqdm` instead of `tqdm.tqdm_notebook`\n",
            "  \n"
          ],
          "name": "stderr"
        },
        {
          "output_type": "display_data",
          "data": {
            "application/vnd.jupyter.widget-view+json": {
              "model_id": "6ae534b6539147c6a4a312fad2898683",
              "version_minor": 0,
              "version_major": 2
            },
            "text/plain": [
              "HBox(children=(IntProgress(value=0, max=150000), HTML(value='')))"
            ]
          },
          "metadata": {
            "tags": []
          }
        }
      ]
    }
  ]
}